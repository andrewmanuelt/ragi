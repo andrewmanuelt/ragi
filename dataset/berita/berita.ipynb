{
 "cells": [
  {
   "cell_type": "code",
   "execution_count": null,
   "metadata": {},
   "outputs": [],
   "source": [
    "import re\n",
    "import os\n",
    "import random\n",
    "import json\n",
    "import pandas as pd\n",
    "\n",
    "from tqdm import tqdm"
   ]
  },
  {
   "cell_type": "code",
   "execution_count": null,
   "metadata": {},
   "outputs": [],
   "source": [
    "pd.options.display.max_colwidth = None"
   ]
  },
  {
   "cell_type": "code",
   "execution_count": null,
   "metadata": {},
   "outputs": [],
   "source": [
    "if os.path.exists('./berita.csv'):\n",
    "    df = pd.read_csv('./berita.csv')\n",
    "else:\n",
    "    data = None \n",
    "    \n",
    "    df = pd.DataFrame(columns=['question', 'answer', 'context', 'category', 'question_type', 'id'])\n",
    "\n",
    "    with open('./berita.json') as f:\n",
    "        data = json.load(f)    \n",
    "    \n",
    "    for index, row in enumerate(data):\n",
    "        id = f\"berita{index}\"\n",
    "        \n",
    "        listed = ['^Apa ', 'apa ', 'Apakah ', 'apakah ', 'Siapa ', 'siapa ', 'Siapakah ', \n",
    "             'Dimana ', 'dimana ', 'Dimanakah ', 'dimanakah ', 'Mana ', 'mana ',\n",
    "             'Kapan ', 'kapan ', 'Kapankah ', 'kapankah ', 'Bagaimana ', 'bagaimana ', 'Bagaimanakah ', 'bagaimanakah ',\n",
    "             'Mengapa ', 'mengapa ', 'Kenapa ', 'kenapa ', 'Berapa ', 'berapa ', 'berapakah ', 'Berapakah ']\n",
    "             \n",
    "        result = re.search(\"|\".join(listed), str(row['question']))\n",
    "\n",
    "        if result:\n",
    "            df.loc[index] = [\n",
    "                row['question'], row['answer'], row['context'], row['category'], str(result[0]).strip().lower(), id\n",
    "            ]    \n",
    "        \n",
    "    df.to_csv('./berita.csv')"
   ]
  },
  {
   "cell_type": "code",
   "execution_count": null,
   "metadata": {},
   "outputs": [],
   "source": [
    "collection_category = {\n",
    "    \"olahraga\": [],\n",
    "    \"nasional\": [],\n",
    "    \"saintek\": [],\n",
    "    \"lifestyle\": [],\n",
    "    \"entertainment\": [],\n",
    "    \"internasional\": [],\n",
    "    \"ekonomi\": [],\n",
    "    \"pendidikan\": [],\n",
    "    \"religi\": []    \n",
    "}"
   ]
  },
  {
   "cell_type": "code",
   "execution_count": null,
   "metadata": {},
   "outputs": [],
   "source": [
    "question_all = {\n",
    "    'olahraga': {\n",
    "        'apa': [], \n",
    "        'siapa': [],   \n",
    "        'dimana': [],\n",
    "        'kapan': [], \n",
    "        'bagaimana': [],\n",
    "        'mengapa': [],\n",
    "        'berapa': [],\n",
    "    },\n",
    "    'nasional': {\n",
    "        'apa': [], \n",
    "        'siapa': [],   \n",
    "        'dimana': [],\n",
    "        'kapan': [], \n",
    "        'bagaimana': [],\n",
    "        'mengapa': [],\n",
    "        'berapa': [],\n",
    "    },\n",
    "    'saintek': {\n",
    "        'apa': [], \n",
    "        'siapa': [],   \n",
    "        'dimana': [],\n",
    "        'kapan': [], \n",
    "        'bagaimana': [],\n",
    "        'mengapa': [],\n",
    "        'berapa': [],\n",
    "    },\n",
    "    'lifestyle': {\n",
    "        'apa': [], \n",
    "        'siapa': [],   \n",
    "        'dimana': [],\n",
    "        'kapan': [], \n",
    "        'bagaimana': [],\n",
    "        'mengapa': [],\n",
    "        'berapa': [],\n",
    "    },\n",
    "    'entertainment': {\n",
    "        'apa': [], \n",
    "        'siapa': [],   \n",
    "        'dimana': [],\n",
    "        'kapan': [], \n",
    "        'bagaimana': [],\n",
    "        'mengapa': [],\n",
    "        'berapa': [],\n",
    "    },\n",
    "    'internasional': {\n",
    "        'apa': [], \n",
    "        'siapa': [],   \n",
    "        'dimana': [],\n",
    "        'kapan': [], \n",
    "        'bagaimana': [],\n",
    "        'mengapa': [],\n",
    "        'berapa': [],\n",
    "    },\n",
    "    'ekonomi': {\n",
    "        'apa': [], \n",
    "        'siapa': [],   \n",
    "        'dimana': [],\n",
    "        'kapan': [], \n",
    "        'bagaimana': [],\n",
    "        'mengapa': [],\n",
    "        'berapa': [],\n",
    "    },\n",
    "    'pendidikan': {\n",
    "        'apa': [], \n",
    "        'siapa': [],   \n",
    "        'dimana': [],\n",
    "        'kapan': [], \n",
    "        'bagaimana': [],\n",
    "        'mengapa': [],\n",
    "        'berapa': [],\n",
    "    },\n",
    "    'religi': {\n",
    "        'apa': [], \n",
    "        'siapa': [],   \n",
    "        'dimana': [],\n",
    "        'kapan': [], \n",
    "        'bagaimana': [],\n",
    "        'mengapa': [],\n",
    "        'berapa': [],\n",
    "    },\n",
    "}"
   ]
  },
  {
   "cell_type": "code",
   "execution_count": null,
   "metadata": {},
   "outputs": [],
   "source": [
    "for category in collection_category:\n",
    "    collection_category[category] = df[df['category'] == category].index.tolist()"
   ]
  },
  {
   "cell_type": "code",
   "execution_count": null,
   "metadata": {},
   "outputs": [],
   "source": [
    "df['category'].unique()"
   ]
  },
  {
   "cell_type": "code",
   "execution_count": null,
   "metadata": {},
   "outputs": [],
   "source": [
    "for row in collection_category:\n",
    "    print(row, \":\", len(collection_category[row]))"
   ]
  },
  {
   "cell_type": "code",
   "execution_count": null,
   "metadata": {},
   "outputs": [],
   "source": [
    "for category in question_all:\n",
    "    for question in tqdm(question_all[category]):\n",
    "        print(category, question)\n",
    "        # len could be arranged as number question per category per question\n",
    "        while len(question_all[category][question]) != 10:            \n",
    "            index = random.choice(collection_category[category])\n",
    "            data = df[df['id'] == f\"berita{index}\"][['question', 'answer', 'id']]\n",
    "\n",
    "            # ['^Apa ', 'apa ', 'Apakah ', 'apakah ', 'Siapa', 'siapa', 'Siapakah', \n",
    "            #  'Dimana', 'dimana', 'Dimanakah', 'dimanakah', 'Mana', 'mana',\n",
    "            #  'Kapan', 'kapan', 'Kapankah', 'kapankah', 'Bagaimana', 'bagaimana', 'Bagaimanakah', 'bagaimanakah',\n",
    "            #  'Mengapa', 'mengapa', 'Kenapa', 'kenapa', 'Berapa', 'berapa', 'berapakah', 'Berapakah']\n",
    "            \n",
    "            if question == 'apa':\n",
    "                ql = ['^Apa ', 'apa ', 'Apakah ', 'apakah ']\n",
    "            elif question == 'siapa':\n",
    "                ql = ['^Siapa ', 'siapa ', 'Siapakah ']\n",
    "            elif question == 'dimana':\n",
    "                ql = ['^Dimana ', 'dimana ', 'Di mana ', 'di mana ', 'Dimanakah ', 'dimanakah ', 'Mana ', 'mana ']\n",
    "            elif question == 'kapan':\n",
    "                ql = ['^Kapan ', 'kapan ', 'Kapankah ', 'kapankah ']\n",
    "            elif question == 'bagaimana':\n",
    "                ql = ['^Bagaimana ', 'bagaimana ', 'Bagaimanakah ', 'bagaimanakah ']\n",
    "            elif question == 'mengapa':\n",
    "                ql = ['^Mengapa ', 'mengapa ', 'Kenapa ', 'kenapa ']\n",
    "            elif question == 'berapa':\n",
    "                ql = ['^Berapa ', 'berapa ', 'berapakah ', 'Berapakah ']\n",
    "                \n",
    "            try:\n",
    "                q = data['question'].to_string().split(\"    \")[1]\n",
    "\n",
    "                if re.search(\"|^\".join(ql), str(q)):\n",
    "                    row = {\n",
    "                            'question': data['question'].to_string().split(\"    \")[1],\n",
    "                            'answer': data['answer'].to_string().split(\"    \")[1],\n",
    "                            'category': category,\n",
    "                            'question_type': str(question).strip().lower()\n",
    "                        }\n",
    "                    \n",
    "                    question_all[category][question].append(row)\n",
    "\n",
    "                    collection_category[category].remove(index)\n",
    "                            \n",
    "                    df = df.drop(index=data.index)\n",
    "                    \n",
    "                    continue\n",
    "            except IndexError:\n",
    "                df = df.drop(index=data.index)\n",
    "                \n",
    "                continue"
   ]
  },
  {
   "cell_type": "code",
   "execution_count": null,
   "metadata": {},
   "outputs": [],
   "source": [
    "with open('./berita_test.json', 'w') as f:\n",
    "    json.dump(question_all, f, indent=4)"
   ]
  },
  {
   "cell_type": "code",
   "execution_count": null,
   "metadata": {},
   "outputs": [],
   "source": [
    "df.to_csv('./berita_train.csv')"
   ]
  },
  {
   "cell_type": "code",
   "execution_count": null,
   "metadata": {},
   "outputs": [],
   "source": [
    "data = None \n",
    "\n",
    "with open('./berita_test.json') as f:\n",
    "    data = json.load(f)"
   ]
  },
  {
   "cell_type": "code",
   "execution_count": null,
   "metadata": {},
   "outputs": [],
   "source": [
    "collection = []"
   ]
  },
  {
   "cell_type": "code",
   "execution_count": null,
   "metadata": {},
   "outputs": [],
   "source": [
    "for category in data:\n",
    "    for question in data[category]:\n",
    "        for row in data[category][question]:\n",
    "            collection.append(row)"
   ]
  },
  {
   "cell_type": "code",
   "execution_count": null,
   "metadata": {},
   "outputs": [],
   "source": [
    "with open('./berita_test_alt.json', 'w') as f:\n",
    "    json.dump(collection, f, indent=4) "
   ]
  },
  {
   "cell_type": "code",
   "execution_count": null,
   "metadata": {},
   "outputs": [],
   "source": [
    "df = pd.read_csv('./berita_train.csv', delimiter=',')\n",
    "df.shape"
   ]
  },
  {
   "cell_type": "code",
   "execution_count": null,
   "metadata": {},
   "outputs": [],
   "source": [
    "collection = []\n",
    "\n",
    "for _, row in df.iterrows():\n",
    "    item = {\n",
    "        \"question\": row['question'],\n",
    "        \"answer\": row['answer'],\n",
    "        \"category\": row['category'],\n",
    "        \"question_type\": str(row['question_type']).lower()\n",
    "    },\n",
    "    \n",
    "    collection.append(item)"
   ]
  },
  {
   "cell_type": "code",
   "execution_count": null,
   "metadata": {},
   "outputs": [],
   "source": [
    "new_collection = []\n",
    "\n",
    "for row1 in collection:\n",
    "    for row2 in row1:\n",
    "        new_collection.append(row2)"
   ]
  },
  {
   "cell_type": "code",
   "execution_count": null,
   "metadata": {},
   "outputs": [],
   "source": [
    "with open('./berita_train_alt.json', 'w') as f:\n",
    "    json.dump(new_collection, f, indent=4)"
   ]
  },
  {
   "cell_type": "code",
   "execution_count": null,
   "metadata": {},
   "outputs": [],
   "source": [
    "dft = pd.read_json('./berita_test_alt.json')\n",
    "dft.to_csv('./berita_test.csv')"
   ]
  }
 ],
 "metadata": {
  "kernelspec": {
   "display_name": "base",
   "language": "python",
   "name": "python3"
  },
  "language_info": {
   "codemirror_mode": {
    "name": "ipython",
    "version": 3
   },
   "file_extension": ".py",
   "mimetype": "text/x-python",
   "name": "python",
   "nbconvert_exporter": "python",
   "pygments_lexer": "ipython3",
   "version": "3.12.7"
  }
 },
 "nbformat": 4,
 "nbformat_minor": 2
}
