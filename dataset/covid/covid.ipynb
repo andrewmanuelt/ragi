{
 "cells": [
  {
   "cell_type": "code",
   "execution_count": null,
   "metadata": {},
   "outputs": [],
   "source": [
    "import json\n",
    "import pandas as pd\n",
    "\n",
    "from sklearn.model_selection import KFold"
   ]
  },
  {
   "cell_type": "code",
   "execution_count": 2,
   "metadata": {},
   "outputs": [],
   "source": [
    "data = []\n",
    "with open('./covid.json') as f:\n",
    "    data = json.load(f)"
   ]
  },
  {
   "cell_type": "code",
   "execution_count": 3,
   "metadata": {},
   "outputs": [],
   "source": [
    "df = pd.DataFrame(columns=['question', 'answer', 'context', 'id'])"
   ]
  },
  {
   "cell_type": "code",
   "execution_count": null,
   "metadata": {},
   "outputs": [],
   "source": [
    "for row in data:\n",
    "    df.loc[len(df)] = [\n",
    "        row['question'], row['answer'], row['context'], row['id']\n",
    "    ]"
   ]
  },
  {
   "cell_type": "code",
   "execution_count": 5,
   "metadata": {},
   "outputs": [],
   "source": [
    "kfold = KFold(n_splits=5)"
   ]
  },
  {
   "cell_type": "code",
   "execution_count": 6,
   "metadata": {},
   "outputs": [],
   "source": [
    "def splitter(df, index, train_index, test_index):\n",
    "    train = df.iloc[train_index]\n",
    "    test = df.iloc[test_index]\n",
    "\n",
    "    train.to_csv(f\"covid_train_{index}.csv\")\n",
    "    test.to_csv(f\"covid_test_{index}.csv\")\n",
    "\n",
    "    collection_train =[]\n",
    "    for _, item in train.iterrows():\n",
    "        row = {\n",
    "            'question': item['question'],\n",
    "            'answer': item['answer'],\n",
    "            'context': item['context'],\n",
    "            'id': item['id']\n",
    "        }\n",
    "\n",
    "        collection_train.append(row)\n",
    "    \n",
    "    with open(f\"covid_train_{index}.json\", \"w\") as f:\n",
    "        json.dump(collection_train, f, indent=4)\n",
    "\n",
    "    collection_test =[]\n",
    "    for _, item in test.iterrows():\n",
    "        row = {\n",
    "            'question': item['question'],\n",
    "            'answer': item['answer'],\n",
    "            'context': item['context'],\n",
    "            'id': item['id']\n",
    "        }\n",
    "\n",
    "        collection_test.append(row)\n",
    "    \n",
    "    with open(f\"covid_test_{index}.json\", \"w\") as f:\n",
    "        json.dump(collection_test, f, indent=4)"
   ]
  },
  {
   "cell_type": "code",
   "execution_count": 7,
   "metadata": {},
   "outputs": [],
   "source": [
    "index = 0\n",
    "\n",
    "for train_index, test_index in kfold.split(df):\n",
    "    splitter(df, index, train_index, test_index)\n",
    "    index = index + 1"
   ]
  },
  {
   "cell_type": "code",
   "execution_count": 8,
   "metadata": {},
   "outputs": [
    {
     "data": {
      "text/plain": [
       "(1615, 5)"
      ]
     },
     "execution_count": 8,
     "metadata": {},
     "output_type": "execute_result"
    }
   ],
   "source": [
    "temp = pd.read_csv('./covid_train_0.csv')\n",
    "temp.shape"
   ]
  },
  {
   "cell_type": "code",
   "execution_count": 9,
   "metadata": {},
   "outputs": [
    {
     "data": {
      "text/plain": [
       "(404, 5)"
      ]
     },
     "execution_count": 9,
     "metadata": {},
     "output_type": "execute_result"
    }
   ],
   "source": [
    "temp = pd.read_csv('./covid_test_0.csv')\n",
    "temp.shape"
   ]
  },
  {
   "cell_type": "code",
   "execution_count": null,
   "metadata": {},
   "outputs": [],
   "source": [
    "from utility.loader import Loader\n",
    "from embedding.mpnet import MPNet\n",
    "\n",
    "mpnet = MPNet()\n",
    "em = mpnet.load_embedding()\n",
    "emf = mpnet.load_embedding_function()\n",
    "\n",
    "loader = Loader()\n",
    "loader.set_params(\n",
    "    embedding=em,\n",
    "    embedding_function=emf,\n",
    "    collection='',\n",
    "    persist_dir='./dataset/covid/'\n",
    ")\n",
    "\n",
    "loader.store(\n",
    "    chunk_overlap=0,\n",
    "    chunk_size=0,\n",
    "    file_path=\n",
    ")\n"
   ]
  },
  {
   "cell_type": "code",
   "execution_count": null,
   "metadata": {},
   "outputs": [],
   "source": [
    "param = {\n",
    "    \"chunk_size\": [], \n",
    "    \"chunk_overlap\": [],\n",
    "    \"top_k\": [],\n",
    "}\n"
   ]
  }
 ],
 "metadata": {
  "kernelspec": {
   "display_name": "base",
   "language": "python",
   "name": "python3"
  },
  "language_info": {
   "codemirror_mode": {
    "name": "ipython",
    "version": 3
   },
   "file_extension": ".py",
   "mimetype": "text/x-python",
   "name": "python",
   "nbconvert_exporter": "python",
   "pygments_lexer": "ipython3",
   "version": "3.12.7"
  }
 },
 "nbformat": 4,
 "nbformat_minor": 2
}
